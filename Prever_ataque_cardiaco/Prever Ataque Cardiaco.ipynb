{
 "cells": [
  {
   "cell_type": "markdown",
   "metadata": {},
   "source": [
    "# **Ataque cardíaco**"
   ]
  },
  {
   "cell_type": "markdown",
   "metadata": {},
   "source": [
    "> Ataque cardíaco acontece quando o coração não recebe quantidade suficiente de oxigênio fazendo com que uma parte dele morra  e não funcione da maneira correta. A maior causa desse fato é a grande quantidade de gordura na parede das artérias formando placas que obstruem o vaso sanguíneo e impede o fluxo do sangue.Os sintomas são dores no peito, no ombro, braço, barriga ou mandíbula, falta de ar, suores, náuseas, fraqueza, tonteira e palidez. \n",
    "\n",
    "> <img style=\"float: centre;\" src=\"ImageAtaqCard.jpg" width=\"600px\"/>\n",
    "\n",
    "> O conjunto de dados contém informações médicas de pacientes que indicam a chance de uma pessoa ter um ataque cardíaco é menor ou maior.O campo \"alvo\" refere-se à presença de doença cardíaca no paciente. É um número inteiro com valor 0 = nenhuma / menos chance de ataque cardíaco e 1 = mais chance de ataque cardíaco. Segue informação dos Atributos.\n",
    "\n"
   ]
  },
  {
   "cell_type": "markdown",
   "metadata": {},
   "source": [
    "##  Informações dos atributos\n",
    "\n",
    "1) Idade\n",
    "\n",
    "2) sexo \n",
    "\n",
    "3) tpdorpeito = tipo de dor no peito (4 valores)\n",
    "\n",
    "4) presartrep = pressão arterial em repouso \n",
    "\n",
    "5) colesterol = colesterol sérico em mg / dl \n",
    "\n",
    "6) acucarsangue = açúcar no sangue em jejum> 120 mg / dl \n",
    "\n",
    "7) eletrocardiograma = resultados eletrocardiográficos de repouso (valores 0,1,2) \n",
    "\n",
    "8) freqcardiacamax = frequência cardíaca máxima alcançada \n",
    "\n",
    "9) angima = angina induzida por exercício \n",
    "\n",
    "10) picoantigo = depressão de ST induzida por exercício em relação ao repouso \n",
    "\n",
    "11) isegmentost\t= a inclinação do segmento ST de pico de exercício \n",
    "\n",
    "12) nuvasosprincipal = número de vasos principais (0-3) coloridos por fluorosopia \n",
    "\n",
    "13) tpdefeito: 0 = normal; 1 = defeito corrigido; 2 = defeito reversível \n",
    "\n",
    "14) ataquecardiaco: 0 = menos chance de ataque cardíaco 1 = mais chance de ataque cardíaco\n",
    "\n",
    "\n",
    "Fonte dos dados: https://www.kaggle.com/nareshbhat/health-care-data-set-on-heart-attack-possibility"
   ]
  },
  {
   "cell_type": "markdown",
   "metadata": {},
   "source": [
    "## Indice\n",
    "1) Pacotes utilizados\n",
    "\n",
    "2) Exploracao e analise de dados\n",
    "\n",
    "3) Pre-processamento de dados\n",
    "\n",
    "4) Avaliando o modelo\n",
    "\n",
    "5) Conclusão"
   ]
  },
  {
   "cell_type": "markdown",
   "metadata": {},
   "source": [
    "## 1) Pacotes utilizados"
   ]
  },
  {
   "cell_type": "code",
   "execution_count": 1,
   "metadata": {},
   "outputs": [],
   "source": [
    "# carregar e tratar o conjunto de dados\n",
    "import pandas as pd\n",
    "# Exploração e análise de dados\n",
    "import seaborn as sns\n",
    "# Divide os dados dos modelo \n",
    "from sklearn.model_selection import cross_val_predict\n",
    "# pre- processamento de dados\n",
    "from sklearn.preprocessing import StandardScaler\n",
    "# Analise exploratória dos dados\n",
    "from pandas_profiling import ProfileReport\n",
    "# Divide os dados entre treino e teste\n",
    "from sklearn.model_selection import train_test_split\n",
    "# Treinamento e previsão usando o algoritmo KNN \n",
    "from sklearn.neighbors import KNeighborsClassifier\n",
    "# Treinamento e previsão usando o algoritmo LogisticRegression \n",
    "from sklearn.linear_model import LogisticRegression\n",
    "# Treinamento e previsão usando o algoritmo RandomForest\n",
    "from sklearn.ensemble import RandomForestClassifier\n",
    "# Treinamento e previsão usando o algoritmo DecisionTree\n",
    "from sklearn.tree import DecisionTreeClassifier\n",
    "# Treinamento e previsão usando o algoritmo SVC\n",
    "from sklearn.svm import SVC\n",
    "from sklearn import svm\n",
    "# Metricas de classificacao \n",
    "from sklearn import metrics\n",
    "from sklearn.metrics import accuracy_score\n",
    "# Selecionar o melhor parametro de K\n",
    "from sklearn.model_selection import GridSearchCV\n",
    "# Biblioteca para trabalhar com Pipelines\n",
    "from sklearn.pipeline import Pipeline\n",
    "# Biblioteca para plotagem de relatorio\n",
    "import matplotlib.pyplot as plt\n",
    "# Biblioteca StratifiedKFold\n",
    "from sklearn.model_selection import StratifiedKFold\n",
    "# Biblioteca RandomizedSearchCV\n",
    "from sklearn.model_selection import RandomizedSearchCV"
   ]
  },
  {
   "cell_type": "code",
   "execution_count": 2,
   "metadata": {
    "_cell_guid": "79c7e3d0-c299-4dcb-8224-4455121ee9b0",
    "_uuid": "d629ff2d2480ee46fbb7e2d37f6b5fab8052498a"
   },
   "outputs": [
    {
     "data": {
      "text/html": [
       "<div>\n",
       "<style scoped>\n",
       "    .dataframe tbody tr th:only-of-type {\n",
       "        vertical-align: middle;\n",
       "    }\n",
       "\n",
       "    .dataframe tbody tr th {\n",
       "        vertical-align: top;\n",
       "    }\n",
       "\n",
       "    .dataframe thead th {\n",
       "        text-align: right;\n",
       "    }\n",
       "</style>\n",
       "<table border=\"1\" class=\"dataframe\">\n",
       "  <thead>\n",
       "    <tr style=\"text-align: right;\">\n",
       "      <th></th>\n",
       "      <th>idade</th>\n",
       "      <th>sexo</th>\n",
       "      <th>tpdorpeito</th>\n",
       "      <th>presartrep</th>\n",
       "      <th>colesterol</th>\n",
       "      <th>acucarsangue</th>\n",
       "      <th>eletrocardiograma</th>\n",
       "      <th>freqcardiacamax</th>\n",
       "      <th>angima</th>\n",
       "      <th>picoantigo</th>\n",
       "      <th>isegmentost</th>\n",
       "      <th>nuvasosprincipal</th>\n",
       "      <th>tpdefeito</th>\n",
       "      <th>ataquecardiaco</th>\n",
       "    </tr>\n",
       "  </thead>\n",
       "  <tbody>\n",
       "    <tr>\n",
       "      <th>0</th>\n",
       "      <td>63</td>\n",
       "      <td>1</td>\n",
       "      <td>3</td>\n",
       "      <td>145</td>\n",
       "      <td>233</td>\n",
       "      <td>1</td>\n",
       "      <td>0</td>\n",
       "      <td>150</td>\n",
       "      <td>0</td>\n",
       "      <td>2.3</td>\n",
       "      <td>0</td>\n",
       "      <td>0</td>\n",
       "      <td>1</td>\n",
       "      <td>1</td>\n",
       "    </tr>\n",
       "    <tr>\n",
       "      <th>1</th>\n",
       "      <td>37</td>\n",
       "      <td>1</td>\n",
       "      <td>2</td>\n",
       "      <td>130</td>\n",
       "      <td>250</td>\n",
       "      <td>0</td>\n",
       "      <td>1</td>\n",
       "      <td>187</td>\n",
       "      <td>0</td>\n",
       "      <td>3.5</td>\n",
       "      <td>0</td>\n",
       "      <td>0</td>\n",
       "      <td>2</td>\n",
       "      <td>1</td>\n",
       "    </tr>\n",
       "    <tr>\n",
       "      <th>2</th>\n",
       "      <td>41</td>\n",
       "      <td>0</td>\n",
       "      <td>1</td>\n",
       "      <td>130</td>\n",
       "      <td>204</td>\n",
       "      <td>0</td>\n",
       "      <td>0</td>\n",
       "      <td>172</td>\n",
       "      <td>0</td>\n",
       "      <td>1.4</td>\n",
       "      <td>2</td>\n",
       "      <td>0</td>\n",
       "      <td>2</td>\n",
       "      <td>1</td>\n",
       "    </tr>\n",
       "    <tr>\n",
       "      <th>3</th>\n",
       "      <td>56</td>\n",
       "      <td>1</td>\n",
       "      <td>1</td>\n",
       "      <td>120</td>\n",
       "      <td>236</td>\n",
       "      <td>0</td>\n",
       "      <td>1</td>\n",
       "      <td>178</td>\n",
       "      <td>0</td>\n",
       "      <td>0.8</td>\n",
       "      <td>2</td>\n",
       "      <td>0</td>\n",
       "      <td>2</td>\n",
       "      <td>1</td>\n",
       "    </tr>\n",
       "    <tr>\n",
       "      <th>4</th>\n",
       "      <td>57</td>\n",
       "      <td>0</td>\n",
       "      <td>0</td>\n",
       "      <td>120</td>\n",
       "      <td>354</td>\n",
       "      <td>0</td>\n",
       "      <td>1</td>\n",
       "      <td>163</td>\n",
       "      <td>1</td>\n",
       "      <td>0.6</td>\n",
       "      <td>2</td>\n",
       "      <td>0</td>\n",
       "      <td>2</td>\n",
       "      <td>1</td>\n",
       "    </tr>\n",
       "  </tbody>\n",
       "</table>\n",
       "</div>"
      ],
      "text/plain": [
       "   idade  sexo  tpdorpeito  presartrep  colesterol  acucarsangue  \\\n",
       "0     63     1           3         145         233             1   \n",
       "1     37     1           2         130         250             0   \n",
       "2     41     0           1         130         204             0   \n",
       "3     56     1           1         120         236             0   \n",
       "4     57     0           0         120         354             0   \n",
       "\n",
       "   eletrocardiograma  freqcardiacamax  angima  picoantigo  isegmentost  \\\n",
       "0                  0              150       0         2.3            0   \n",
       "1                  1              187       0         3.5            0   \n",
       "2                  0              172       0         1.4            2   \n",
       "3                  1              178       0         0.8            2   \n",
       "4                  1              163       1         0.6            2   \n",
       "\n",
       "   nuvasosprincipal  tpdefeito  ataquecardiaco  \n",
       "0                 0          1               1  \n",
       "1                 0          2               1  \n",
       "2                 0          2               1  \n",
       "3                 0          2               1  \n",
       "4                 0          2               1  "
      ]
     },
     "execution_count": 2,
     "metadata": {},
     "output_type": "execute_result"
    }
   ],
   "source": [
    "df_ha = pd.read_csv('C:/Portfolio/Classificacao/KNN/DataSet/heart.csv')\n",
    "df_ha.head()"
   ]
  },
  {
   "cell_type": "code",
   "execution_count": 3,
   "metadata": {},
   "outputs": [
    {
     "name": "stdout",
     "output_type": "stream",
     "text": [
      "<class 'pandas.core.frame.DataFrame'>\n",
      "RangeIndex: 303 entries, 0 to 302\n",
      "Data columns (total 14 columns):\n",
      " #   Column             Non-Null Count  Dtype  \n",
      "---  ------             --------------  -----  \n",
      " 0   idade              303 non-null    int64  \n",
      " 1   sexo               303 non-null    int64  \n",
      " 2   tpdorpeito         303 non-null    int64  \n",
      " 3   presartrep         303 non-null    int64  \n",
      " 4   colesterol         303 non-null    int64  \n",
      " 5   acucarsangue       303 non-null    int64  \n",
      " 6   eletrocardiograma  303 non-null    int64  \n",
      " 7   freqcardiacamax    303 non-null    int64  \n",
      " 8   angima             303 non-null    int64  \n",
      " 9   picoantigo         303 non-null    float64\n",
      " 10  isegmentost        303 non-null    int64  \n",
      " 11  nuvasosprincipal   303 non-null    int64  \n",
      " 12  tpdefeito          303 non-null    int64  \n",
      " 13  ataquecardiaco     303 non-null    int64  \n",
      "dtypes: float64(1), int64(13)\n",
      "memory usage: 33.3 KB\n"
     ]
    }
   ],
   "source": [
    "df_ha.info()"
   ]
  },
  {
   "cell_type": "markdown",
   "metadata": {},
   "source": [
    "## **2) Exploração e análise dos dados**"
   ]
  },
  {
   "cell_type": "code",
   "execution_count": 4,
   "metadata": {},
   "outputs": [
    {
     "data": {
      "application/vnd.jupyter.widget-view+json": {
       "model_id": "7e6ae7db8a4f45abaeaf2c6aa4f52b71",
       "version_major": 2,
       "version_minor": 0
      },
      "text/plain": [
       "Summarize dataset:   0%|          | 0/27 [00:00<?, ?it/s]"
      ]
     },
     "metadata": {},
     "output_type": "display_data"
    },
    {
     "data": {
      "application/vnd.jupyter.widget-view+json": {
       "model_id": "b693d3ac4995438f89179f0767f67863",
       "version_major": 2,
       "version_minor": 0
      },
      "text/plain": [
       "Generate report structure:   0%|          | 0/1 [00:00<?, ?it/s]"
      ]
     },
     "metadata": {},
     "output_type": "display_data"
    },
    {
     "data": {
      "application/vnd.jupyter.widget-view+json": {
       "model_id": "5f7f114523fe4f1c8347dc67b78f7d13",
       "version_major": 2,
       "version_minor": 0
      },
      "text/plain": [
       "Render HTML:   0%|          | 0/1 [00:00<?, ?it/s]"
      ]
     },
     "metadata": {},
     "output_type": "display_data"
    },
    {
     "data": {
      "application/vnd.jupyter.widget-view+json": {
       "model_id": "06139afcdeb1449b8e4266eee700061b",
       "version_major": 2,
       "version_minor": 0
      },
      "text/plain": [
       "Export report to file:   0%|          | 0/1 [00:00<?, ?it/s]"
      ]
     },
     "metadata": {},
     "output_type": "display_data"
    }
   ],
   "source": [
    "relatorio = ProfileReport(df_ha, title='Relatório Ataque Cardíaco')\n",
    "relatorio.to_file(\"RelatorioAtaqueCardiaco.html\")"
   ]
  },
  {
   "cell_type": "markdown",
   "metadata": {},
   "source": [
    "> \n",
    "\n",
    "> <src=\"RelatorioAtaqueCardiaco.html\", width=\"700\", height=\"600\" />\n",
    "\n",
    "> s.\n",
    "\n"
   ]
  },
  {
   "cell_type": "markdown",
   "metadata": {},
   "source": [
    "## 3) Pre-processamento de dados"
   ]
  },
  {
   "cell_type": "code",
   "execution_count": 5,
   "metadata": {},
   "outputs": [],
   "source": [
    "# remove registros duplicados\n",
    "df_ha = df_ha.drop_duplicates()"
   ]
  },
  {
   "cell_type": "markdown",
   "metadata": {},
   "source": [
    "## 4) Avaliando o Modelo\n",
    "\n",
    "Avaliando a precisão da previsão dos algoritmos de classificação a seguir.\n",
    "\n",
    "1. K-Nearest Neighbour\n",
    "2. Logistic Regression\n",
    "3. Random Forest \n",
    "4. Decision Tree\n",
    "5. Support Vector Machine"
   ]
  },
  {
   "cell_type": "code",
   "execution_count": null,
   "metadata": {},
   "outputs": [],
   "source": []
  },
  {
   "cell_type": "code",
   "execution_count": 6,
   "metadata": {},
   "outputs": [],
   "source": [
    "# Dividindo os dados entre treino e teste\n",
    "from sklearn.model_selection import train_test_split\n",
    "X = df_ha.drop(['ataquecardiaco'], axis=1)\n",
    "Y =  df_ha['ataquecardiaco']\n",
    "\n",
    "X_train, X_test, y_train, y_test = train_test_split(X,Y,test_size=0.3, random_state = 0)"
   ]
  },
  {
   "cell_type": "code",
   "execution_count": 7,
   "metadata": {},
   "outputs": [],
   "source": [
    "# Transforamndo os dados com o objeto Scaler\n",
    "scaler = StandardScaler()\n",
    "X_train = scaler.fit_transform(X_train)\n",
    "X_test = scaler.transform(X_test)"
   ]
  },
  {
   "cell_type": "code",
   "execution_count": 8,
   "metadata": {},
   "outputs": [],
   "source": [
    "modelo_1 = 'K-Nearest Neighbour'\n",
    "\n",
    "# Selecionando o melhor K com base na acurácia\n",
    "k_list = list(range(1,51))\n",
    "k_values = dict(n_neighbors=k_list)\n",
    "for itemlista in k_list:\n",
    "   knn = KNeighborsClassifier(n_neighbors=itemlista)\n",
    "   # Treinando algoritmo \n",
    "   knn.fit(X_train,y_train)\n",
    "   # Prevendo com o conjunto de teste \n",
    "   result = knn.predict(X_test)\n",
    "   knn_acc_score = accuracy_score(y_test, result)\n",
    "   if itemlista==1:\n",
    "      l_nK=[itemlista]\n",
    "      acc = [knn_acc_score]\n",
    "   else:\n",
    "      l_nK.append(itemlista)\n",
    "      acc.append(knn_acc_score)"
   ]
  },
  {
   "cell_type": "code",
   "execution_count": 9,
   "metadata": {},
   "outputs": [],
   "source": [
    "# Criação do datafame com resultado das acuracia por valor de K\n",
    "\n",
    "datax= {'NuK':l_nK,'Acuracia':acc}\n",
    "df_mk= pd.DataFrame(datax,columns=['NuK','Acuracia'])"
   ]
  },
  {
   "cell_type": "code",
   "execution_count": 10,
   "metadata": {},
   "outputs": [],
   "source": [
    "# Seleciona o valor de K que contém a maior acurácia\n",
    "\n",
    "maxAcc= df_mk['Acuracia'].max()\n",
    "melhorAcc=df_mk.loc[df_mk['Acuracia']== maxAcc]\n",
    "melhorK = melhorAcc.iat[0,0]"
   ]
  },
  {
   "cell_type": "code",
   "execution_count": 11,
   "metadata": {},
   "outputs": [
    {
     "name": "stdout",
     "output_type": "stream",
     "text": [
      "          Previsto   0   1  All\n",
      "Real                           \n",
      "0                   38   7   45\n",
      "1                    4  42   46\n",
      "All                 42  49   91\n",
      "\n",
      "\n",
      "Acurácia da K-Nearest Neighbour: 87.91208791208791 \n",
      "\n",
      "              precision    recall  f1-score   support\n",
      "\n",
      "           0       0.90      0.84      0.87        45\n",
      "           1       0.86      0.91      0.88        46\n",
      "\n",
      "    accuracy                           0.88        91\n",
      "   macro avg       0.88      0.88      0.88        91\n",
      "weighted avg       0.88      0.88      0.88        91\n",
      "\n"
     ]
    }
   ],
   "source": [
    "mknn= KNeighborsClassifier(n_neighbors=melhorK)\n",
    "modelo = mknn.fit(X_train, y_train)\n",
    "mknn_predict = mknn.predict(X_test)\n",
    "mknn_matrix_conf = pd.crosstab(y_test, mknn_predict ,rownames=['Real'], colnames=['          Previsto'], margins=True)\n",
    "\n",
    "# Metricas de avaliação do modelo K-Nearest Neighbour\n",
    "mknn_acuracia = accuracy_score(y_test, mknn_predict)\n",
    "print(mknn_matrix_conf)\n",
    "\n",
    "print(\"\\n\")\n",
    "print(\"Acurácia da K-Nearest Neighbour:\",mknn_acuracia*100,'\\n')\n",
    "print(metrics.classification_report(y_test,mknn_predict))"
   ]
  },
  {
   "cell_type": "code",
   "execution_count": 12,
   "metadata": {},
   "outputs": [
    {
     "name": "stdout",
     "output_type": "stream",
     "text": [
      "          Previsto   0   1  All\n",
      "Real                           \n",
      "0                   34  11   45\n",
      "1                    5  41   46\n",
      "All                 39  52   91\n",
      "\n",
      "\n",
      "Acurácia da Regressão Logistica: 82.41758241758241 \n",
      "\n",
      "              precision    recall  f1-score   support\n",
      "\n",
      "           0       0.87      0.76      0.81        45\n",
      "           1       0.79      0.89      0.84        46\n",
      "\n",
      "    accuracy                           0.82        91\n",
      "   macro avg       0.83      0.82      0.82        91\n",
      "weighted avg       0.83      0.82      0.82        91\n",
      "\n"
     ]
    }
   ],
   "source": [
    "modelo_2 = 'Logistic Regression'\n",
    "\n",
    "mr_l = LogisticRegression()\n",
    "modelo = mr_l.fit(X_train, y_train)\n",
    "mr_l_predict = mr_l.predict(X_test)\n",
    "mr_l_matrix_conf = pd.crosstab(y_test, mr_l_predict ,rownames=['Real'], colnames=['          Previsto'], margins=True)\n",
    "\n",
    "# Metricas de avaliação do modelo Logistic Regression\n",
    "mr_l_acuracia = accuracy_score(y_test, mr_l_predict)\n",
    "\n",
    "print(mr_l_matrix_conf)\n",
    "print(\"\\n\")\n",
    "\n",
    "print(\"Acurácia da Regressão Logistica:\",mr_l_acuracia*100,'\\n')\n",
    "print(metrics.classification_report(y_test,mr_l_predict))"
   ]
  },
  {
   "cell_type": "code",
   "execution_count": 13,
   "metadata": {},
   "outputs": [
    {
     "name": "stdout",
     "output_type": "stream",
     "text": [
      "Grid scores on development set:\n",
      "mean:0.79113,std:0.08883,params:{'n_estimators': 20, 'criterion': 'gini'}\n",
      "mean:0.82403,std:0.07729,params:{'n_estimators': 50, 'criterion': 'gini'}\n",
      "mean:0.80541,std:0.07562,params:{'n_estimators': 100, 'criterion': 'gini'}\n",
      "mean:0.81472,std:0.06607,params:{'n_estimators': 150, 'criterion': 'gini'}\n",
      "mean:0.82424,std:0.0774,params:{'n_estimators': 200, 'criterion': 'gini'}\n",
      "mean:0.79091,std:0.08363,params:{'n_estimators': 20, 'criterion': 'entropy'}\n",
      "mean:0.81017,std:0.0483,params:{'n_estimators': 50, 'criterion': 'entropy'}\n",
      "mean:0.829,std:0.07484,params:{'n_estimators': 100, 'criterion': 'entropy'}\n",
      "mean:0.82922,std:0.0575,params:{'n_estimators': 150, 'criterion': 'entropy'}\n",
      "mean:0.82424,std:0.06804,params:{'n_estimators': 200, 'criterion': 'entropy'}\n",
      "\n",
      "Melhor parâmetro:{'n_estimators': 150, 'criterion': 'entropy'}, Score:0.8292207792207792\n"
     ]
    }
   ],
   "source": [
    "modelo_3 = 'Random Forest'\n",
    "\n",
    "# Valores de estimators\n",
    "val_estimators = [20, 50, 100, 150, 200]\n",
    "\n",
    "# Valores para o critério de divisão\n",
    "val_criterion = ['gini', 'entropy']\n",
    "\n",
    "# listas de parâmetros e valores\n",
    "parametros_grid = dict(n_estimators = val_estimators,\n",
    "                       criterion = val_criterion)\n",
    "                       \n",
    "# Criando o modelo\n",
    "modelo_random = RandomForestClassifier()\n",
    "\n",
    "# Definindo K\n",
    "kfold = StratifiedKFold(n_splits=10, shuffle = True, random_state=7)\n",
    "\n",
    "# Testando combinações com os parâmetros\n",
    "grid = RandomizedSearchCV(estimator = modelo_random, param_distributions = parametros_grid, cv = kfold, scoring = 'accuracy')\n",
    "grid.fit(X_train,y_train)\n",
    "\n",
    "# Resultado\n",
    "print(\"Grid scores on development set:\")\n",
    "means = grid.cv_results_['mean_test_score'].round(5)\n",
    "stds = grid.cv_results_['std_test_score'].round(5)\n",
    "\n",
    "for mean, std, params in zip(means, stds, grid.cv_results_['params']):\n",
    "    print(f'mean:{mean},std:{std},params:{params}')\n",
    "print()\n",
    "print(f'Melhor parâmetro:{grid.best_params_}, Score:{grid.best_score_}')"
   ]
  },
  {
   "cell_type": "code",
   "execution_count": 14,
   "metadata": {},
   "outputs": [],
   "source": [
    "# Melhor acurácia do modelo Random Forest\n",
    "mr_f_acuracia=grid.best_score_"
   ]
  },
  {
   "cell_type": "code",
   "execution_count": 15,
   "metadata": {},
   "outputs": [],
   "source": [
    "# Verificando as features mais importantes para o modelo.\n",
    "clf=RandomForestClassifier(n_estimators=150, random_state=7)\n",
    "clf.fit(X , Y)\n",
    "feature_imp = pd.Series(clf.feature_importances_,index=X.columns).sort_values(ascending=False)"
   ]
  },
  {
   "cell_type": "code",
   "execution_count": 16,
   "metadata": {},
   "outputs": [
    {
     "data": {
      "image/png": "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\n",
      "text/plain": [
       "<Figure size 576x432 with 1 Axes>"
      ]
     },
     "metadata": {
      "needs_background": "light"
     },
     "output_type": "display_data"
    }
   ],
   "source": [
    "plt.figure(figsize=(8,6))\n",
    "sns.barplot(x=feature_imp, y=feature_imp.index)\n",
    "plt.xlabel('Feature Importance Score')\n",
    "plt.ylabel('Features')\n",
    "plt.title(\"Visualizing Important Features\")\n",
    "plt.show()"
   ]
  },
  {
   "cell_type": "code",
   "execution_count": 17,
   "metadata": {},
   "outputs": [],
   "source": [
    "modelo_4 = 'DecisionTree'\n",
    "\n",
    "# Função para calcular a acuracia da Arvore de decisão utilizando \n",
    "# o parametro max_depth ( profundidade máxima da árvore )\n",
    "\n",
    "def treinar_arvore(maxdepth):\n",
    "    if maxdepth == 0:\n",
    "        dt = DecisionTreeClassifier(criterion = 'entropy',random_state=0)\n",
    "    else:   \n",
    "        dt = DecisionTreeClassifier(criterion = 'entropy',random_state=0, max_depth=maxdepth)\n",
    "    dt.fit(X_train, y_train)\n",
    "    md_t_predict = dt.predict(X_test)\n",
    "    md_t_acuracia = accuracy_score(y_test, md_t_predict)\n",
    "    return md_t_acuracia"
   ]
  },
  {
   "cell_type": "code",
   "execution_count": 18,
   "metadata": {},
   "outputs": [
    {
     "name": "stdout",
     "output_type": "stream",
     "text": [
      "Max_depth  Acurácia            \n",
      "---------  -----------------   \n",
      "2         0.7582417582417582\n",
      "3         0.8241758241758241\n",
      "4         0.8131868131868132\n",
      "6         0.7582417582417582\n",
      "10        0.7692307692307693\n",
      "15        0.7692307692307693\n",
      "Full      0.7692307692307693\n"
     ]
    }
   ],
   "source": [
    "# Calcula a acuracia do algoritmo DecisionTree para Max_depth igual a 0,2,3,4,6,10 e 15\n",
    "print('{:10} {:20}'.format('Max_depth','Acurácia'))\n",
    "print('{:10} {:20}'.format('---------', '-----------------'))\n",
    "print('{:1}         {}'.format(2,str(treinar_arvore(2))))\n",
    "print('{:1}         {}'.format(3,str(treinar_arvore(3))))\n",
    "print('{:1}         {}'.format(4,str(treinar_arvore(4))))\n",
    "print('{:1}         {}'.format(6,str(treinar_arvore(6))))\n",
    "print('{:1}        {}'.format(10,str(treinar_arvore(10))))\n",
    "print('{:1}        {}'.format(15,str(treinar_arvore(15))))\n",
    "print('{:1}      {}'.format('Full',str(treinar_arvore(0))))"
   ]
  },
  {
   "cell_type": "code",
   "execution_count": 19,
   "metadata": {},
   "outputs": [],
   "source": [
    "# Melhor accuracia de 0.8241758241758241 obtida com Max_depth igual a 3\n",
    "melhor_max_depth=3"
   ]
  },
  {
   "cell_type": "code",
   "execution_count": 20,
   "metadata": {},
   "outputs": [
    {
     "name": "stdout",
     "output_type": "stream",
     "text": [
      "          Previsto   0   1  All\n",
      "Real                           \n",
      "0                   33  12   45\n",
      "1                    4  42   46\n",
      "All                 37  54   91\n",
      "\n",
      "\n",
      "Acurácia do DecisionTree: 82.41758241758241 \n",
      "\n",
      "              precision    recall  f1-score   support\n",
      "\n",
      "           0       0.89      0.73      0.80        45\n",
      "           1       0.78      0.91      0.84        46\n",
      "\n",
      "    accuracy                           0.82        91\n",
      "   macro avg       0.83      0.82      0.82        91\n",
      "weighted avg       0.83      0.82      0.82        91\n",
      "\n"
     ]
    }
   ],
   "source": [
    "modelo_4 = 'DecisionTree'\n",
    "\n",
    "md_t = DecisionTreeClassifier(criterion = 'entropy',random_state=0,max_depth = melhor_max_depth)\n",
    "modelo = md_t.fit(X_train, y_train)\n",
    "md_t_predict = md_t.predict(X_test)\n",
    "md_t_matrix_conf = pd.crosstab(y_test, md_t_predict ,rownames=['Real'], colnames=['          Previsto'], margins=True)\n",
    "\n",
    "# Metricas de avaliação do modelo DecisionTree\n",
    "\n",
    "md_t_acuracia = accuracy_score(y_test, md_t_predict)\n",
    "\n",
    "print(md_t_matrix_conf)\n",
    "print(\"\\n\")\n",
    "print(\"Acurácia do DecisionTree:\",md_t_acuracia*100,'\\n')\n",
    "print(metrics.classification_report(y_test,md_t_predict))"
   ]
  },
  {
   "cell_type": "code",
   "execution_count": 21,
   "metadata": {},
   "outputs": [],
   "source": [
    "modelo_5 = 'Support Vector Classifier'\n",
    "\n",
    "# Criando os pipelines\n",
    "pip_svm_1 = Pipeline([\n",
    "    ('scaler',StandardScaler()),\n",
    "    ('clf', svm.SVC(kernel='rbf'))\n",
    "])\n",
    "\n",
    "pip_svm_2 = Pipeline([\n",
    "    ('scaler',StandardScaler()),\n",
    "    ('clf', svm.SVC(kernel='poly'))\n",
    "])\n",
    "pip_svm_3 = Pipeline([\n",
    "    ('scaler',StandardScaler()),\n",
    "    ('clf', svm.SVC(kernel='linear'))\n",
    "])\n",
    "pip_svm_4 = Pipeline([\n",
    "    ('scaler',StandardScaler()),\n",
    "    ('clf', svm.SVC(kernel='sigmoid'))\n",
    "])"
   ]
  },
  {
   "cell_type": "code",
   "execution_count": 22,
   "metadata": {},
   "outputs": [],
   "source": [
    "# Calculando a acucaria para os pipeline \n",
    "\n",
    "# pip_svm_1\n",
    "modelo = pip_svm_1.fit(X_train, y_train)\n",
    "msvc_predict_1 = pip_svm_1.predict(X_test)\n",
    "msvc_acuracia_1 = accuracy_score(y_test, msvc_predict_1)\n",
    "\n",
    "# pip_svm_2\n",
    "modelo = pip_svm_2.fit(X_train, y_train)\n",
    "msvc_predict_2 = pip_svm_2.predict(X_test)\n",
    "msvc_acuracia_2 = accuracy_score(y_test, msvc_predict_2)\n",
    "\n",
    "# pip_svm_3\n",
    "modelo = pip_svm_3.fit(X_train, y_train)\n",
    "msvc_predict_3 = pip_svm_3.predict(X_test)\n",
    "msvc_acuracia_3 = accuracy_score(y_test, msvc_predict_3)\n",
    "\n",
    "# pip_svm_4\n",
    "modelo = pip_svm_4.fit(X_train, y_train)\n",
    "msvc_predict_4 = pip_svm_4.predict(X_test)\n",
    "msvc_acuracia_4 = accuracy_score(y_test, msvc_predict_4)\n"
   ]
  },
  {
   "cell_type": "code",
   "execution_count": 23,
   "metadata": {},
   "outputs": [],
   "source": [
    "# Seleciona a melhor acuracia (SVM)\n",
    "melhorpip_svc = msvc_acuracia_1\n",
    "melhorpip = pip_svm_1\n",
    "if msvc_acuracia_2 > msvc_acuracia_1:\n",
    "   melhorpip = pip_svm_2\n",
    "elif msvc_acuracia_3 > msvc_acuracia_1:\n",
    "   melhorpip = pip_svm_3"
   ]
  },
  {
   "cell_type": "code",
   "execution_count": 24,
   "metadata": {},
   "outputs": [
    {
     "name": "stdout",
     "output_type": "stream",
     "text": [
      "          Previsto   0   1  All\n",
      "Real                           \n",
      "0                   34  11   45\n",
      "1                    4  42   46\n",
      "All                 38  53   91\n",
      "\n",
      "\n",
      "Acurácia do Support Vector Classifier: 83.51648351648352 \n",
      "\n",
      "              precision    recall  f1-score   support\n",
      "\n",
      "           0       0.89      0.76      0.82        45\n",
      "           1       0.79      0.91      0.85        46\n",
      "\n",
      "    accuracy                           0.84        91\n",
      "   macro avg       0.84      0.83      0.83        91\n",
      "weighted avg       0.84      0.84      0.83        91\n",
      "\n"
     ]
    }
   ],
   "source": [
    "modelo = melhorpip.fit(X_train, y_train)\n",
    "msvc_predict = melhorpip.predict(X_test)\n",
    "msvc_acuracia = accuracy_score(y_test, msvc_predict)\n",
    "msvc_matrix_conf = pd.crosstab(y_test, msvc_predict ,rownames=['Real'], colnames=['          Previsto'], margins=True)\n",
    "\n",
    "# Metricas de avaliação do modelo Support Vector Classifier\n",
    "msvc_acuracia = accuracy_score(y_test, msvc_predict)\n",
    "print(msvc_matrix_conf)\n",
    "print(\"\\n\")\n",
    "print(\"Acurácia do Support Vector Classifier:\",msvc_acuracia*100,'\\n')\n",
    "print(metrics.classification_report(y_test,msvc_predict))"
   ]
  },
  {
   "cell_type": "code",
   "execution_count": 25,
   "metadata": {},
   "outputs": [
    {
     "data": {
      "text/html": [
       "<div>\n",
       "<style scoped>\n",
       "    .dataframe tbody tr th:only-of-type {\n",
       "        vertical-align: middle;\n",
       "    }\n",
       "\n",
       "    .dataframe tbody tr th {\n",
       "        vertical-align: top;\n",
       "    }\n",
       "\n",
       "    .dataframe thead th {\n",
       "        text-align: right;\n",
       "    }\n",
       "</style>\n",
       "<table border=\"1\" class=\"dataframe\">\n",
       "  <thead>\n",
       "    <tr style=\"text-align: right;\">\n",
       "      <th></th>\n",
       "      <th>Algoritmo</th>\n",
       "      <th>Acurácia</th>\n",
       "    </tr>\n",
       "  </thead>\n",
       "  <tbody>\n",
       "    <tr>\n",
       "      <th>0</th>\n",
       "      <td>K-Nearest Neighbour</td>\n",
       "      <td>87.912088</td>\n",
       "    </tr>\n",
       "    <tr>\n",
       "      <th>1</th>\n",
       "      <td>Logistic Regression</td>\n",
       "      <td>82.417582</td>\n",
       "    </tr>\n",
       "    <tr>\n",
       "      <th>2</th>\n",
       "      <td>Random Forest</td>\n",
       "      <td>82.922078</td>\n",
       "    </tr>\n",
       "    <tr>\n",
       "      <th>3</th>\n",
       "      <td>Decision Tree</td>\n",
       "      <td>82.417582</td>\n",
       "    </tr>\n",
       "    <tr>\n",
       "      <th>4</th>\n",
       "      <td>Support Vector Machine</td>\n",
       "      <td>83.516484</td>\n",
       "    </tr>\n",
       "  </tbody>\n",
       "</table>\n",
       "</div>"
      ],
      "text/plain": [
       "                Algoritmo   Acurácia\n",
       "0     K-Nearest Neighbour  87.912088\n",
       "1     Logistic Regression  82.417582\n",
       "2           Random Forest  82.922078\n",
       "3           Decision Tree  82.417582\n",
       "4  Support Vector Machine  83.516484"
      ]
     },
     "execution_count": 25,
     "metadata": {},
     "output_type": "execute_result"
    }
   ],
   "source": [
    "# Relação dos modelos e os seus melhores valores de acurácia e portanto os melhores resultados.\n",
    "\n",
    "df_acur = pd.DataFrame({'Algoritmo': ['K-Nearest Neighbour','Logistic Regression','Random Forest','Decision Tree','Support Vector Machine'],\n",
    "                        'Acurácia': [mknn_acuracia*100,mr_l_acuracia*100,mr_f_acuracia*100,md_t_acuracia*100,msvc_acuracia*100]})\n",
    "\n",
    "df_acur"
   ]
  },
  {
   "cell_type": "markdown",
   "metadata": {},
   "source": [
    "## **Conclusão**\n",
    "\n",
    "1) O algoritmo K-Nearest Neighbour tem a melhor acurácia comparado com os outros modelos.\n",
    "\n",
    "2) Os principais sintomas de ataque cardíaco são: dor no peito e número de vasos principais.\n"
   ]
  }
 ],
 "metadata": {
  "kernelspec": {
   "display_name": "Python 3",
   "language": "python",
   "name": "python3"
  },
  "language_info": {
   "codemirror_mode": {
    "name": "ipython",
    "version": 3
   },
   "file_extension": ".py",
   "mimetype": "text/x-python",
   "name": "python",
   "nbconvert_exporter": "python",
   "pygments_lexer": "ipython3",
   "version": "3.8.8"
  }
 },
 "nbformat": 4,
 "nbformat_minor": 4
}
